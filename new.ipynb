{
 "cells": [
  {
   "cell_type": "code",
   "execution_count": null,
   "metadata": {},
   "outputs": [],
   "source": [
    "#url shortener projects \n",
    "#This Python script employs the pyshorteners library to condense long URLs using TinyURL. By invoking the short_url() function with an extended URL, it yields a compact version. In real-world scenarios like social media or messaging platforms, this feature streamlines link sharing, enhancing user convenience. Nevertheless, caution should be exercised regarding security risks and ensuring users are informed about the destination of shortened URLs.\n",
    "#you cannot post in twitter long links that why pyshorteners is used\n",
    "import pyshorteners \n",
    "\n",
    "def short_url(url): \n",
    "    shortener = pyshorteners.Shortener()\n",
    "    a = shortener.tinyurl.short(url) \n",
    "    \n",
    "    return a \n",
    "\n",
    "url = \"https://www.linkedin.com/in/khadar786/\"\n",
    "result = short_url(url) \n",
    "print(result)\n",
    " \n",
    "\n"
   ]
  },
  {
   "cell_type": "code",
   "execution_count": null,
   "metadata": {},
   "outputs": [],
   "source": [
    "#The project generates a QR code for a given URL using the pyqrcode library in Python and saves it as a PNG file. In real life, this functionality can be used in various applications such as event ticketing, contactless payments, or product packaging to provide quick access to information by scanning the QR code with a smartphone.\n",
    "\n",
    "import pyqrcode\n",
    "from IPython.display import Image\n",
    "\n",
    "def qrcode(data): \n",
    "    q = pyqrcode.create(data)\n",
    "    q.png(\"QR_Code.png\", scale=6) \n",
    "    print(\"QR Code Generated!\")\n",
    "    return \"QR_Code.png\"  # Return the filename\n",
    "\n",
    "data = \"https://www.linkedin.com/in/khadar786/\"\n",
    "filename = qrcode(data) \n",
    "\n",
    "# Display the generated QR code in the notebook\n",
    "Image(filename)\n"
   ]
  },
  {
   "cell_type": "code",
   "execution_count": null,
   "metadata": {},
   "outputs": [],
   "source": [
    "import cv2 \n",
    "\n",
    "def qrreader(image):\n",
    "    img = cv2.imread(image) \n",
    "    detector = cv2.QRCodeDetector() \n",
    "    data , bbox , _ = detector.detectAndDecode(img) \n",
    "    return data \n",
    "\n",
    "r = qrreader(\"QR Code.png\")  \n",
    "print(r)\n"
   ]
  },
  {
   "cell_type": "code",
   "execution_count": null,
   "metadata": {},
   "outputs": [],
   "source": [
    "import pyttsx4\n",
    "import PyPDF4\n",
    "\n",
    "book = open(r\"C:\\Users\\Khadar Basha\\Downloads\\C175N20ScoreCard.pdf\", \"rb\")\n",
    "pdfReader = PyPDF4.PdfFileReader(book)\n",
    "pages = pdfReader.numPages\n",
    "print(pages)\n",
    "\n",
    "speaker = pyttsx4.init()\n",
    "for num in range(pages):\n",
    "    page = pdfReader.getPage(num)\n",
    "    text = page.extractText()\n",
    "    print(text)\n",
    "    speaker.say(text)\n",
    "    speaker.runAndWait()\n"
   ]
  },
  {
   "cell_type": "code",
   "execution_count": null,
   "metadata": {},
   "outputs": [],
   "source": [
    "from textblob import TextBlob \n",
    "\n",
    "words = [\"crickt\" , \"pyton\" , \"javaript\" , \"seqel\"] \n",
    "correct_words = [] \n",
    "\n",
    "for word in words:\n",
    "    # Create a TextBlob object for each word\n",
    "    blob = TextBlob(word)\n",
    "    # Correct the spelling of the word\n",
    "    corrected_word = blob.correct()\n",
    "    # Append the corrected word to the list\n",
    "    correct_words.append(str(corrected_word)) \n",
    "\n",
    "print(correct_words)\n"
   ]
  },
  {
   "cell_type": "code",
   "execution_count": null,
   "metadata": {},
   "outputs": [],
   "source": [
    "import cv2 \n",
    "image = cv2.imread(r\"C:\\Users\\Khadar Basha\\Downloads\\myimage.jpeg\") \n",
    "cv2.imshow(image)\n"
   ]
  },
  {
   "cell_type": "code",
   "execution_count": 1,
   "metadata": {},
   "outputs": [
    {
     "name": "stdout",
     "output_type": "stream",
     "text": [
      "2\n"
     ]
    }
   ],
   "source": [
    "a = 2 \n",
    "print(a)"
   ]
  },
  {
   "cell_type": "code",
   "execution_count": null,
   "metadata": {},
   "outputs": [],
   "source": []
  }
 ],
 "metadata": {
  "kernelspec": {
   "display_name": "Python 3",
   "language": "python",
   "name": "python3"
  },
  "language_info": {
   "codemirror_mode": {
    "name": "ipython",
    "version": 3
   },
   "file_extension": ".py",
   "mimetype": "text/x-python",
   "name": "python",
   "nbconvert_exporter": "python",
   "pygments_lexer": "ipython3",
   "version": "3.12.2"
  }
 },
 "nbformat": 4,
 "nbformat_minor": 2
}
